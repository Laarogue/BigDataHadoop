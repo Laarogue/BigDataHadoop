{
 "cells": [
  {
   "cell_type": "code",
   "execution_count": 1,
   "metadata": {},
   "outputs": [],
   "source": [
    "#Le compte bancaire\n",
    "from PythonObjetExercice import CompteBanquaire as cb"
   ]
  },
  {
   "cell_type": "code",
   "execution_count": 5,
   "metadata": {},
   "outputs": [
    {
     "name": "stdout",
     "output_type": "stream",
     "text": [
      "Le solde du compte bancaire de Jean est de 1000 euros.\n",
      "Le solde du compte bancaire de Jean est de 1100 euros.\n",
      "Le solde du compte bancaire de Jean est de 600 euros.\n"
     ]
    }
   ],
   "source": [
    "banque1 = cb.Banque(\"Jean\")\n",
    "banque1.affiche()\n",
    "banque1.depot(100)\n",
    "banque1.affiche()\n",
    "banque1.retrait(500)\n",
    "banque1.affiche()"
   ]
  },
  {
   "cell_type": "code",
   "execution_count": 7,
   "metadata": {},
   "outputs": [
    {
     "name": "stdout",
     "output_type": "stream",
     "text": [
      "Le solde du compte bancaire de Bernard est de 800 euros.\n",
      "Le solde du compte bancaire de Bernard est de 1200 euros.\n",
      "Le solde du compte bancaire de Bernard est de 1000 euros.\n"
     ]
    }
   ],
   "source": [
    "banque2 = cb.Banque(\"Bernard\",800)\n",
    "banque2.affiche()\n",
    "banque2.depot(400)\n",
    "banque2.affiche()\n",
    "banque2.retrait(200)\n",
    "banque2.affiche()"
   ]
  },
  {
   "cell_type": "code",
   "execution_count": 1,
   "metadata": {},
   "outputs": [],
   "source": [
    "#La surcharge d'opérateur\n",
    "from PythonObjetExercice import surcharge as su"
   ]
  },
  {
   "cell_type": "code",
   "execution_count": 4,
   "metadata": {},
   "outputs": [
    {
     "data": {
      "text/plain": [
       "[2, 0, 5]"
      ]
     },
     "execution_count": 4,
     "metadata": {},
     "output_type": "execute_result"
    }
   ],
   "source": [
    "point1 = su.Point(2,0,5)\n",
    "point1.toString()"
   ]
  },
  {
   "cell_type": "code",
   "execution_count": 5,
   "metadata": {},
   "outputs": [
    {
     "data": {
      "text/plain": [
       "[2, -2]"
      ]
     },
     "execution_count": 5,
     "metadata": {},
     "output_type": "execute_result"
    }
   ],
   "source": [
    "point2 = su.Point(2,-2)\n",
    "point2.toString()"
   ]
  },
  {
   "cell_type": "code",
   "execution_count": null,
   "metadata": {},
   "outputs": [],
   "source": []
  }
 ],
 "metadata": {
  "kernelspec": {
   "display_name": "Python 3",
   "language": "python",
   "name": "python3"
  },
  "language_info": {
   "codemirror_mode": {
    "name": "ipython",
    "version": 3
   },
   "file_extension": ".py",
   "mimetype": "text/x-python",
   "name": "python",
   "nbconvert_exporter": "python",
   "pygments_lexer": "ipython3",
   "version": "3.7.6"
  }
 },
 "nbformat": 4,
 "nbformat_minor": 4
}
